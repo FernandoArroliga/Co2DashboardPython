{
 "cells": [
  {
   "cell_type": "markdown",
   "id": "20bbb376",
   "metadata": {},
   "source": [
    "# Dashboard for CO2 Data In Python\n",
    "\n",
    "\n",
    "## CO2 Emissions Dataset\n",
    "\n",
    "The dataset at hand provides a comprehensive overview of CO2 emissions by country, encompassing data across various parameters. This data includes information on population, GDP, CO2 emissions from different sources, per capita emissions, and cumulative emissions.\n",
    "\n",
    "### Understanding CO2 Emissions\n",
    "\n",
    "CO2 emissions are a critical environmental metric, representing the amount of carbon dioxide released into the atmosphere primarily due to human activities. It is a key contributor to global warming and climate change, as CO2 is a greenhouse gas that traps heat in the Earth's atmosphere. Monitoring and understanding CO2 emissions are crucial for addressing climate change and developing sustainable strategies to reduce environmental impact.\n",
    "\n",
    "In this dataset, we analyze CO2 emissions in relation to various factors, shedding light on the magnitude and trends of emissions, their correlation with economic indicators like GDP, and per capita emission rates. Exploring this dataset will provide valuable insights into the environmental impact of different countries and their contributions to climate change.\n"
   ]
  },
  {
   "cell_type": "markdown",
   "id": "aabc1918",
   "metadata": {},
   "source": [
    "## Step 0: Preparing the Environment\n",
    "Before to make the dashboard we are gonna prepare the environment with the neccessary modules and libraries."
   ]
  },
  {
   "cell_type": "code",
   "execution_count": 14,
   "id": "b81d7e54",
   "metadata": {
    "scrolled": true
   },
   "outputs": [],
   "source": [
    "# Install the panel module for creating the widgets and dashboard\n",
    "!pip install panel"
   ]
  },
  {
   "cell_type": "markdown",
   "id": "cbea047a",
   "metadata": {},
   "source": [
    "#### Note. Project Libraries\n",
    "\n",
    "In this project, we utilize the following Python libraries to create an interactive dashboard:\n",
    "\n",
    "- **Pandas**: A powerful data manipulation and analysis library that provides data structures and functions needed to work with structured data seamlessly.\n",
    "\n",
    "- **NumPy**: A fundamental package for numerical computing in Python, offering support for arrays, matrices, and various mathematical functions.\n",
    "\n",
    "- **Panel**: An open-source Python library that allows for easy creation of interactive dashboards and web apps directly from your Python code, incorporating widgets and plots effortlessly.\n",
    "\n",
    "- **hvPlot.pandas**: A high-level plotting library built on top of Bokeh, designed to work seamlessly with Pandas data structures, providing an efficient way to create interactive visualizations.\n",
    "\n",
    "These libraries form the backbone of our dashboard project, enabling us to process, analyze, and present data in a dynamic and informative manner.\n"
   ]
  },
  {
   "cell_type": "code",
   "execution_count": 15,
   "id": "754311b9",
   "metadata": {},
   "outputs": [],
   "source": [
    "#---------------- Importing the useful libraries and modules ------------------------------\n",
    "\n",
    "import numpy as np\n",
    "import pandas as pd\n",
    "import panel as pn\n",
    "\n",
    "import hvplot.pandas\n",
    "\n",
    "pn.extension(\"tabulator\")"
   ]
  },
  {
   "cell_type": "markdown",
   "id": "957c07f7",
   "metadata": {},
   "source": [
    "## Step 1: Loading the Data"
   ]
  },
  {
   "cell_type": "code",
   "execution_count": 7,
   "id": "8301d907",
   "metadata": {},
   "outputs": [],
   "source": [
    "# -------------- Load the data -------------------------------\n",
    "\n",
    "data = pd.read_csv(\"owid-co2-data.csv\")"
   ]
  },
  {
   "cell_type": "markdown",
   "id": "cb4b990c",
   "metadata": {},
   "source": [
    "## Step 2: Exploring the Data"
   ]
  },
  {
   "cell_type": "code",
   "execution_count": 8,
   "id": "9e55faca",
   "metadata": {},
   "outputs": [],
   "source": [
    "# ------------ Viewing the first five rows of the dataset --------------------\n",
    "\n",
    "data.head()"
   ]
  },
  {
   "cell_type": "code",
   "execution_count": 9,
   "id": "f8caf53f",
   "metadata": {},
   "outputs": [],
   "source": [
    "# ------------ Viewing the last five rows of the dataset --------------------\n",
    "\n",
    "data.tail()"
   ]
  },
  {
   "cell_type": "code",
   "execution_count": 11,
   "id": "36813178",
   "metadata": {},
   "outputs": [],
   "source": [
    "# ------------ Exploring the shape of the dataset --------------------------\n",
    "\n",
    "print(f\"The dataset has: \\n{data.shape[0]} rows \\n{data.shape[1]}columns\")"
   ]
  },
  {
   "cell_type": "code",
   "execution_count": 13,
   "id": "de64cf50",
   "metadata": {},
   "outputs": [],
   "source": [
    "# ------------ Exploring the columns of the dataset ----------------------\n",
    "\n",
    "data.columns"
   ]
  },
  {
   "cell_type": "markdown",
   "id": "045ec733",
   "metadata": {},
   "source": [
    "## Step 3: Data Preprocessing"
   ]
  },
  {
   "cell_type": "code",
   "execution_count": 16,
   "id": "0e03287b",
   "metadata": {},
   "outputs": [],
   "source": [
    "# -------------- Fill Nas with 0s and create GDP per capita column ----------------\n",
    "\n",
    "# Fill Nas\n",
    "df = df.fillna(0)\n",
    "\n",
    "# Create new column\n",
    "df[\"gdp_per_capita\"] = np.where(df[\"population\"] != 0, df[\"gdp\"]/df[\"population\"], 0) "
   ]
  },
  {
   "cell_type": "code",
   "execution_count": null,
   "id": "b6d29ec2",
   "metadata": {},
   "outputs": [],
   "source": []
  },
  {
   "cell_type": "markdown",
   "id": "cb2ea488",
   "metadata": {},
   "source": [
    "## Step 4: Creating the Widgets"
   ]
  },
  {
   "cell_type": "code",
   "execution_count": 18,
   "id": "4130ddff",
   "metadata": {},
   "outputs": [],
   "source": [
    "# ------------ Make DataFrame Pipeline Interactive -------------------\n",
    "\n",
    "idf = data.interactive()"
   ]
  },
  {
   "cell_type": "markdown",
   "id": "5fba71c9",
   "metadata": {},
   "source": [
    "### Creating CO2 emission over time by continent plot\n"
   ]
  },
  {
   "cell_type": "code",
   "execution_count": null,
   "id": "de3f1fb3",
   "metadata": {},
   "outputs": [],
   "source": [
    "# -------------- Year Slider ------------------"
   ]
  },
  {
   "cell_type": "code",
   "execution_count": null,
   "id": "4c3627a4",
   "metadata": {},
   "outputs": [],
   "source": [
    "# ------------- Radio Buttons for CO2 Measures ---------"
   ]
  },
  {
   "cell_type": "code",
   "execution_count": null,
   "id": "390d8e88",
   "metadata": {},
   "outputs": [],
   "source": [
    "# ------------- Continents Section --------------------"
   ]
  },
  {
   "cell_type": "code",
   "execution_count": null,
   "id": "4ffbd928",
   "metadata": {},
   "outputs": [],
   "source": [
    "# ------------ Making the Plot ----------------------"
   ]
  },
  {
   "cell_type": "markdown",
   "id": "0adf430a",
   "metadata": {},
   "source": [
    "### Table-CO2 emission over time by continent"
   ]
  },
  {
   "cell_type": "code",
   "execution_count": 19,
   "id": "9fd07c70",
   "metadata": {},
   "outputs": [],
   "source": [
    "# ----------- Create the Table -------------"
   ]
  },
  {
   "cell_type": "markdown",
   "id": "d5293f93",
   "metadata": {},
   "source": [
    "### CO2 vs GDP scatterplot"
   ]
  },
  {
   "cell_type": "code",
   "execution_count": null,
   "id": "38c4a25b",
   "metadata": {},
   "outputs": [],
   "source": []
  },
  {
   "cell_type": "markdown",
   "id": "801d900b",
   "metadata": {},
   "source": [
    "### Bar chart with CO2 sources by continent"
   ]
  },
  {
   "cell_type": "code",
   "execution_count": null,
   "id": "1d69920c",
   "metadata": {},
   "outputs": [],
   "source": []
  },
  {
   "cell_type": "markdown",
   "id": "c8b78ab4",
   "metadata": {},
   "source": [
    "## Step 5: Creating the Dashboard"
   ]
  },
  {
   "cell_type": "code",
   "execution_count": null,
   "id": "f0f48060",
   "metadata": {},
   "outputs": [],
   "source": []
  },
  {
   "cell_type": "markdown",
   "id": "82c85823",
   "metadata": {},
   "source": [
    "## Step 6: Run the Dashboard"
   ]
  },
  {
   "cell_type": "code",
   "execution_count": null,
   "id": "90700179",
   "metadata": {},
   "outputs": [],
   "source": []
  }
 ],
 "metadata": {
  "kernelspec": {
   "display_name": "Python 3 (ipykernel)",
   "language": "python",
   "name": "python3"
  },
  "language_info": {
   "codemirror_mode": {
    "name": "ipython",
    "version": 3
   },
   "file_extension": ".py",
   "mimetype": "text/x-python",
   "name": "python",
   "nbconvert_exporter": "python",
   "pygments_lexer": "ipython3",
   "version": "3.9.6"
  }
 },
 "nbformat": 4,
 "nbformat_minor": 5
}
